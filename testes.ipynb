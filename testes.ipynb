{
 "cells": [
  {
   "cell_type": "code",
   "execution_count": 1,
   "metadata": {},
   "outputs": [],
   "source": [
    "from objects import Vertex, Graph"
   ]
  },
  {
   "cell_type": "code",
   "execution_count": 2,
   "metadata": {},
   "outputs": [],
   "source": [
    "class Chave:\n",
    "    def __init__(self, cod: int) -> None:\n",
    "        self.cod = cod\n",
    "\n",
    "    def __repr__(self) -> str:\n",
    "        return f\"{self.cod}\"\n",
    "\n",
    "    def __hash__(self) -> int:\n",
    "        return hash(object.__repr__(self))\n",
    "\n",
    "class Condutor:\n",
    "    def __init__(self, tipo) -> None:\n",
    "        self.tipo = tipo\n",
    "\n",
    "    def __repr__(self) -> str:\n",
    "        return f\"{self.tipo}\"\n",
    "\n",
    "    def __hash__(self) -> int:\n",
    "        return hash(object.__repr__(self))\n"
   ]
  },
  {
   "cell_type": "code",
   "execution_count": 3,
   "metadata": {},
   "outputs": [],
   "source": [
    "a = Vertex(Chave(1008))\n",
    "b = Vertex(Condutor(\"XPLE\"))\n",
    "c = Vertex(Condutor(\"Multiplex\"))"
   ]
  },
  {
   "cell_type": "code",
   "execution_count": 4,
   "metadata": {},
   "outputs": [
    {
     "ename": "AttributeError",
     "evalue": "'set' object has no attribute 'append'",
     "output_type": "error",
     "traceback": [
      "\u001b[1;31m---------------------------------------------------------------------------\u001b[0m",
      "\u001b[1;31mAttributeError\u001b[0m                            Traceback (most recent call last)",
      "\u001b[1;32mk:\\DPEP_DVPE\\Temp\\Ruan\\Projetos\\AnalisaRede\\testes.ipynb Cell 4\u001b[0m in \u001b[0;36m1\n\u001b[1;32m----> <a href='vscode-notebook-cell:/k%3A/DPEP_DVPE/Temp/Ruan/Projetos/AnalisaRede/testes.ipynb#X24sZmlsZQ%3D%3D?line=0'>1</a>\u001b[0m a\u001b[39m.\u001b[39;49mset_neighbours(b, c)\n",
      "File \u001b[1;32mk:\\DPEP_DVPE\\Temp\\Ruan\\Projetos\\AnalisaRede\\objects.py:20\u001b[0m, in \u001b[0;36mVertex.set_neighbours\u001b[1;34m(self, *others)\u001b[0m\n\u001b[0;32m     18\u001b[0m \u001b[39mif\u001b[39;00m \u001b[39mself\u001b[39m \u001b[39mis\u001b[39;00m other:\n\u001b[0;32m     19\u001b[0m     \u001b[39mcontinue\u001b[39;00m\n\u001b[1;32m---> 20\u001b[0m \u001b[39mself\u001b[39;49m\u001b[39m.\u001b[39;49m__neighbours\u001b[39m.\u001b[39;49mappend(other)\n\u001b[0;32m     21\u001b[0m other\u001b[39m.\u001b[39mset_neighbours(\u001b[39mself\u001b[39m)\n",
      "\u001b[1;31mAttributeError\u001b[0m: 'set' object has no attribute 'append'"
     ]
    }
   ],
   "source": [
    "a.set_neighbours(b, c)"
   ]
  },
  {
   "cell_type": "code",
   "execution_count": null,
   "metadata": {},
   "outputs": [],
   "source": [
    "graph = Graph()"
   ]
  },
  {
   "cell_type": "code",
   "execution_count": null,
   "metadata": {},
   "outputs": [],
   "source": [
    "graph.set_vertices(a, b, c)"
   ]
  },
  {
   "cell_type": "code",
   "execution_count": null,
   "metadata": {},
   "outputs": [
    {
     "name": "stdout",
     "output_type": "stream",
     "text": [
      "1008\n",
      "|   |-- XPLE\n",
      "|   |-- Multiplex\n"
     ]
    },
    {
     "data": {
      "text/plain": [
       "{Chave(1008), Condutor(Multiplex), Condutor(XPLE)}"
      ]
     },
     "execution_count": 10,
     "metadata": {},
     "output_type": "execute_result"
    }
   ],
   "source": [
    "graph.get_vertices()"
   ]
  }
 ],
 "metadata": {
  "kernelspec": {
   "display_name": "Python 3",
   "language": "python",
   "name": "python3"
  },
  "language_info": {
   "codemirror_mode": {
    "name": "ipython",
    "version": 3
   },
   "file_extension": ".py",
   "mimetype": "text/x-python",
   "name": "python",
   "nbconvert_exporter": "python",
   "pygments_lexer": "ipython3",
   "version": "3.10.4"
  },
  "orig_nbformat": 4
 },
 "nbformat": 4,
 "nbformat_minor": 2
}
